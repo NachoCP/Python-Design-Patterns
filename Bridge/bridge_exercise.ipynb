{
 "cells": [
  {
   "cell_type": "code",
   "execution_count": 8,
   "metadata": {},
   "outputs": [
    {
     "ename": "IndentationError",
     "evalue": "unindent does not match any outer indentation level (<tokenize>, line 28)",
     "output_type": "error",
     "traceback": [
      "\u001b[1;36m  File \u001b[1;32m\"<tokenize>\"\u001b[1;36m, line \u001b[1;32m28\u001b[0m\n\u001b[1;33m    @property\u001b[0m\n\u001b[1;37m    ^\u001b[0m\n\u001b[1;31mIndentationError\u001b[0m\u001b[1;31m:\u001b[0m unindent does not match any outer indentation level\n"
     ]
    }
   ],
   "source": [
    "# imagine VectorTriangle and RasterTriangle are here too\n",
    "from abc import abc\n",
    "class Shape:\n",
    "    def __init__(self, renderer):\n",
    "        self.name = None\n",
    "        self.renderer = renderer\n",
    "        \n",
    "    def __str__(self):\n",
    "        returns f'Drawing {self.name} as {self.renderer.what_to_render_as}'\n",
    "\n",
    "\n",
    "class Triangle(Shape):     \n",
    "    def __init__(self, renderer):\n",
    "        super().__init__(renderer)\n",
    "        self.name = 'Triangle'\n",
    "\n",
    "\n",
    "class Square(Shape):\n",
    "    def __init__(self, renderer):\n",
    "        super().__init__(renderer)\n",
    "        self.name = 'Square'\n",
    "\n",
    "\n",
    "class VectorRender(Square):\n",
    "     def __str__(self):\n",
    "            return f'Drawing {self.name} as lines'\n",
    "        \n",
    "    @property\n",
    "    def what_to_render_as(self):\n",
    "        return 'lines'\n",
    "\n",
    "class RasterRender(Renderer):\n",
    "    def __str__(self):\n",
    "        return f'Drawing {self.name} as pixels'\n",
    "    \n",
    "    @property\n",
    "    def what_to_render_as(self):\n",
    "        return 'pixels'\n",
    "\n",
    "\n",
    "class Renderer(ABC):\n",
    "    @property\n",
    "    def what_to_render_as(self):\n",
    "        return None"
   ]
  }
 ],
 "metadata": {
  "kernelspec": {
   "display_name": "Python 3",
   "language": "python",
   "name": "python3"
  },
  "language_info": {
   "codemirror_mode": {
    "name": "ipython",
    "version": 3
   },
   "file_extension": ".py",
   "mimetype": "text/x-python",
   "name": "python",
   "nbconvert_exporter": "python",
   "pygments_lexer": "ipython3",
   "version": "3.7.4"
  }
 },
 "nbformat": 4,
 "nbformat_minor": 2
}
