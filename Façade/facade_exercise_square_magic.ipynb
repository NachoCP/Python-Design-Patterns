{
 "cells": [
  {
   "cell_type": "code",
   "execution_count": 19,
   "metadata": {},
   "outputs": [],
   "source": [
    "from random import randint\n",
    "\n",
    "class Generator:\n",
    "    def generate(self, count):\n",
    "        return [randint(1,9) for x in range(count)]\n",
    "\n",
    "class Splitter:\n",
    "    def split(self, array):\n",
    "        result = []\n",
    "\n",
    "        row_count = len(array)\n",
    "        col_count = len(array[0])\n",
    "\n",
    "        for r in range(row_count):\n",
    "            the_row = []\n",
    "            for c in range(col_count):\n",
    "                the_row.append(array[r][c])\n",
    "            result.append(the_row)\n",
    "        \n",
    "        for c in range(col_count):\n",
    "            the_col = []\n",
    "            for r in range(row_count):\n",
    "                the_col.append(array[r][c])\n",
    "            result.append(the_col)\n",
    "\n",
    "        diag1 = []\n",
    "        diag2 = []\n",
    "\n",
    "        for c in range(col_count):\n",
    "            for r in range(row_count):\n",
    "                if c == r:\n",
    "                    diag1.append(array[r][c])\n",
    "                r2 = row_count - r - 1\n",
    "                if c == r2:\n",
    "                    diag2.append(array[r][c])\n",
    "        result.append(diag1)\n",
    "        result.append(diag2)\n",
    "        return result\n",
    "\n",
    "class Verifier:\n",
    "    def verify(self, arrays):\n",
    "        first = sum(arrays[0])\n",
    "        \n",
    "        for i in range(1, len(arrays)):\n",
    "            if sum(arrays[i]) != first:\n",
    "                return False\n",
    "        return True\n",
    "\n",
    "class MagicSquareGenerator:\n",
    "    def generate(self, size):\n",
    "        \n",
    "        generator = Generator()\n",
    "        verifier = Verifier()\n",
    "        splitter = Splitter()\n",
    "        \n",
    "        \n",
    "        magic_square = [generator.generate(size) for _ in range(size)]\n",
    "        magic = verifier.verify(splitter.split(magic_square))\n",
    "        \n",
    "        while(not magic):\n",
    "            \n",
    "            magic_square = [generator.generate(size) for _ in range(size)]\n",
    "            magic = verifier.verify(splitter.split(magic_square))\n",
    "            \n",
    "        return magic_square\n",
    "        \n",
    "    # todo - return a magic square of the given size"
   ]
  },
  {
   "cell_type": "code",
   "execution_count": null,
   "metadata": {},
   "outputs": [],
   "source": [
    "MagicSquareGenerator().generate(5)"
   ]
  }
 ],
 "metadata": {
  "kernelspec": {
   "display_name": "Python 3",
   "language": "python",
   "name": "python3"
  },
  "language_info": {
   "codemirror_mode": {
    "name": "ipython",
    "version": 3
   },
   "file_extension": ".py",
   "mimetype": "text/x-python",
   "name": "python",
   "nbconvert_exporter": "python",
   "pygments_lexer": "ipython3",
   "version": "3.7.4"
  }
 },
 "nbformat": 4,
 "nbformat_minor": 2
}
