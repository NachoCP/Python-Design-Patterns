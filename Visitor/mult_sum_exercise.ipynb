{
 "cells": [
  {
   "cell_type": "code",
   "execution_count": 10,
   "metadata": {},
   "outputs": [],
   "source": [
    "# taken from https://tavianator.com/the-visitor-pattern-in-python/\n",
    "import unittest\n",
    "from abc import ABC\n",
    "\n",
    "\n",
    "def _qualname(obj):\n",
    "    \"\"\"Get the fully-qualified name of an object (including module).\"\"\"\n",
    "    return obj.__module__ + '.' + obj.__qualname__\n",
    "\n",
    "\n",
    "def _declaring_class(obj):\n",
    "    \"\"\"Get the name of the class that declared an object.\"\"\"\n",
    "    name = _qualname(obj)\n",
    "    return name[:name.rfind('.')]\n",
    "\n",
    "\n",
    "# Stores the actual visitor methods\n",
    "_methods = {}\n",
    "\n",
    "\n",
    "# Delegating visitor implementation\n",
    "def _visitor_impl(self, arg):\n",
    "    \"\"\"Actual visitor method implementation.\"\"\"\n",
    "    key = (_qualname(type(self)), type(arg))\n",
    "    if not key in _methods:\n",
    "        raise Exception('Key % not found' % key)\n",
    "    method = _methods[key]\n",
    "    return method(self, arg)\n",
    "\n",
    "\n",
    "# The actual @visitor decorator\n",
    "def visitor(arg_type):\n",
    "    \"\"\"Decorator that creates a visitor method.\"\"\"\n",
    "\n",
    "    def decorator(fn):\n",
    "        declaring_class = _declaring_class(fn)\n",
    "        _methods[(declaring_class, arg_type)] = fn\n",
    "\n",
    "        # Replace all decorated methods with _visitor_impl\n",
    "        return _visitor_impl\n",
    "\n",
    "    return decorator\n",
    "\n",
    "# ↑↑↑ LIBRARY CODE ↑↑↑\n",
    "\n",
    "class Value:\n",
    "    def __init__(self, value):\n",
    "        self.value = value\n",
    "\n",
    "\n",
    "class AdditionExpression:\n",
    "    def __init__(self, left, right):\n",
    "        self.right = right\n",
    "        self.left = left\n",
    "\n",
    "\n",
    "class MultiplicationExpression:\n",
    "    def __init__(self, left, right):\n",
    "        self.right = right\n",
    "        self.left = left\n",
    "\n",
    "\n",
    "class ExpressionPrinter:\n",
    "    def __init__(self):\n",
    "        self.buffer = []\n",
    "    \n",
    "    @visitor(Value)\n",
    "    def visit(self, value):\n",
    "        self.buffer.append(str(value.value))\n",
    "        \n",
    "    @visitor(AdditionExpression)\n",
    "    def visit(self, ae):\n",
    "        self.buffer.append('(')\n",
    "        self.visit(ae.left)\n",
    "        self.buffer.append('+')\n",
    "        self.visit(ae.right)\n",
    "        self.buffer.append(')')\n",
    "        \n",
    "    @visitor(MultiplicationExpression)\n",
    "    def visit(self, me):\n",
    "        self.visit(me.left)\n",
    "        self.buffer.append('*')\n",
    "        self.visit(me.right)\n",
    "\n",
    "    def __str__(self):\n",
    "        return ''.join(self.buffer)"
   ]
  },
  {
   "cell_type": "code",
   "execution_count": 11,
   "metadata": {},
   "outputs": [
    {
     "data": {
      "text/plain": [
       "'(2+3)'"
      ]
     },
     "execution_count": 11,
     "metadata": {},
     "output_type": "execute_result"
    }
   ],
   "source": [
    "simple = AdditionExpression(Value(2), Value(3))\n",
    "ep = ExpressionPrinter()\n",
    "ep.visit(simple)\n",
    "str(ep)"
   ]
  }
 ],
 "metadata": {
  "kernelspec": {
   "display_name": "Python 3",
   "language": "python",
   "name": "python3"
  },
  "language_info": {
   "codemirror_mode": {
    "name": "ipython",
    "version": 3
   },
   "file_extension": ".py",
   "mimetype": "text/x-python",
   "name": "python",
   "nbconvert_exporter": "python",
   "pygments_lexer": "ipython3",
   "version": "3.7.4"
  }
 },
 "nbformat": 4,
 "nbformat_minor": 2
}
