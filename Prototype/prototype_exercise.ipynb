{
 "cells": [
  {
   "cell_type": "code",
   "execution_count": 9,
   "metadata": {},
   "outputs": [],
   "source": [
    "import copy\n",
    "\n",
    "class Point:\n",
    "    def __init__(self, x=0, y=0):\n",
    "        self.x = x\n",
    "        self.y = y\n",
    "        \n",
    "    def __str__(self):\n",
    "        return f'Point x : {self.x} and y : {self.y}'\n",
    "\n",
    "class Line:\n",
    "    def __init__(self, start=Point(), end=Point()):\n",
    "        self.start = start\n",
    "        self.end = end\n",
    "\n",
    "    def deep_copy(self):\n",
    "        return Line(copy.deepcopy(self.start), copy.deepcopy(self.end))\n",
    "    \n",
    "    def __str__(self):\n",
    "        return f'The line starts at {self.start} and ends at {self.end}'\n",
    "    \n",
    "    "
   ]
  },
  {
   "cell_type": "code",
   "execution_count": 14,
   "metadata": {},
   "outputs": [],
   "source": [
    "l1 = Line(Point(1,2), Point(3, 4))\n",
    "l2 = l1.deep_copy()\n",
    "l2.start.x = 5"
   ]
  },
  {
   "cell_type": "code",
   "execution_count": 15,
   "metadata": {},
   "outputs": [
    {
     "name": "stdout",
     "output_type": "stream",
     "text": [
      "The line starts at Point x : 1 and y : 2 and ends at Point x : 3 and y : 4\n",
      "The line starts at Point x : 5 and y : 2 and ends at Point x : 3 and y : 4\n"
     ]
    }
   ],
   "source": [
    "print(l1)\n",
    "print(l2)"
   ]
  }
 ],
 "metadata": {
  "kernelspec": {
   "display_name": "Python 3",
   "language": "python",
   "name": "python3"
  },
  "language_info": {
   "codemirror_mode": {
    "name": "ipython",
    "version": 3
   },
   "file_extension": ".py",
   "mimetype": "text/x-python",
   "name": "python",
   "nbconvert_exporter": "python",
   "pygments_lexer": "ipython3",
   "version": "3.7.4"
  }
 },
 "nbformat": 4,
 "nbformat_minor": 2
}
