{
 "cells": [
  {
   "cell_type": "code",
   "execution_count": 33,
   "metadata": {},
   "outputs": [],
   "source": [
    "from abc import ABC\n",
    "from enum import Enum\n",
    "\n",
    "class Creature:\n",
    "    def __init__(self, attack, health):\n",
    "        self.health = health\n",
    "        self.attack = attack\n",
    "\n",
    "class CreatureStatus(Enum):\n",
    "    ALIVE = 0\n",
    "    DEAD = 1\n",
    "\n",
    "class CardGame(ABC):\n",
    "    def __init__(self, creatures):\n",
    "        self.creatures = creatures\n",
    "\n",
    "    # return -1 if both creatures alive or both dead after combat\n",
    "    # otherwise, return the _index_ of winning creature\n",
    "    \n",
    "    \n",
    "    def combat(self, c1_index, c2_index):\n",
    "        result1 = self.hit(self.creatures[c1_index], self.creatures[c2_index])\n",
    "        \n",
    "        result2 = self.hit(self.creatures[c2_index], self.creatures[c1_index])\n",
    "        if result2 == CreatureStatus.DEAD and result1 == CreatureStatus.DEAD: return -1\n",
    "        elif result2 == CreatureStatus.DEAD: return c2_index\n",
    "        elif result1 == CreatureStatus.DEAD: return c1_index\n",
    "        \n",
    "        return -1\n",
    "\n",
    "    def hit(self, attacker, defender):\n",
    "        pass  # implement this in derived classes\n",
    "\n",
    "\n",
    "class TemporaryDamageCardGame(CardGame):\n",
    "    \n",
    "    def hit(self, attacker, defender):\n",
    "        if attacker.attack >= defender.health:\n",
    "            return CreatureStatus.DEAD\n",
    "        else:\n",
    "            return CreatureStatus.ALIVE\n",
    "\n",
    "\n",
    "class PermanentDamageCardGame(CardGame):\n",
    "    \n",
    "    def hit(self, attacker, defender):\n",
    "        defender.health -= attacker.attack\n",
    "        if defender.health <= 0:\n",
    "            return CreatureStatus.DEAD\n",
    "        else:\n",
    "            return CreatureStatus.ALIVE\n",
    "    \n",
    "    \n",
    "    "
   ]
  },
  {
   "cell_type": "code",
   "execution_count": 34,
   "metadata": {},
   "outputs": [],
   "source": [
    "c1 = Creature(1, 2)\n",
    "c2 = Creature(1, 3)\n",
    "game = PermanentDamageCardGame([c1, c2])"
   ]
  },
  {
   "cell_type": "code",
   "execution_count": 35,
   "metadata": {},
   "outputs": [
    {
     "data": {
      "text/plain": [
       "-1"
      ]
     },
     "execution_count": 35,
     "metadata": {},
     "output_type": "execute_result"
    }
   ],
   "source": [
    "game.combat(0, 1)"
   ]
  }
 ],
 "metadata": {
  "kernelspec": {
   "display_name": "Python 3",
   "language": "python",
   "name": "python3"
  },
  "language_info": {
   "codemirror_mode": {
    "name": "ipython",
    "version": 3
   },
   "file_extension": ".py",
   "mimetype": "text/x-python",
   "name": "python",
   "nbconvert_exporter": "python",
   "pygments_lexer": "ipython3",
   "version": "3.7.4"
  }
 },
 "nbformat": 4,
 "nbformat_minor": 2
}
