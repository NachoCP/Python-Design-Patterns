{
 "cells": [
  {
   "cell_type": "code",
   "execution_count": 4,
   "metadata": {},
   "outputs": [],
   "source": [
    "class Event(list):\n",
    "    def __call__(self, *args, **kwargs):\n",
    "        for item in self:\n",
    "            item(*args, **kwargs)\n",
    "            \n",
    "class Mediator:\n",
    "    def __init__(self):\n",
    "        self.events = Event()\n",
    "        \n",
    "    def broadcast(self, args):\n",
    "        self.events(args)\n",
    "        \n",
    "\n",
    "class BroadCastInfo:\n",
    "    def __init__(self, who_broadcast, value_broadcast):\n",
    "        self.who_broadcast = who_broadcast\n",
    "        self.value_broadcast = value_broadcast\n",
    "        \n",
    "class Participant:\n",
    "    def __init__(self, mediator):\n",
    "        self.value = 0\n",
    "        self.mediator = mediator\n",
    "        mediator.events.append(self.recieve)\n",
    "\n",
    "    def say(self, value):\n",
    "        args = BroadCastInfo(self, value)\n",
    "        self.mediator.broadcast(args)\n",
    "        \n",
    "    def recieve(self, args):\n",
    "        if isinstance(args, BroadCastInfo) and self != args.who_broadcast:\n",
    "            self.value += args.value_broadcast\n",
    "            \n",
    "    def __str__(self):\n",
    "        return f'This player has a value of {self.value}'"
   ]
  },
  {
   "cell_type": "code",
   "execution_count": 5,
   "metadata": {},
   "outputs": [
    {
     "name": "stdout",
     "output_type": "stream",
     "text": [
      "This player has a value of 0 This player has a value of 5 This player has a value of 5\n",
      "This player has a value of 2 This player has a value of 5 This player has a value of 7\n",
      "This player has a value of 3 This player has a value of 6 This player has a value of 7\n"
     ]
    }
   ],
   "source": [
    "mediator = Mediator()\n",
    "\n",
    "p1 = Participant(mediator)\n",
    "p2 = Participant(mediator)\n",
    "p3 = Participant(mediator)\n",
    "\n",
    "p1.say(5)\n",
    "print(p1, p2, p3)\n",
    "p2.say(2)\n",
    "print(p1, p2, p3)\n",
    "p3.say(1)\n",
    "print(p1, p2, p3)"
   ]
  }
 ],
 "metadata": {
  "kernelspec": {
   "display_name": "Python 3",
   "language": "python",
   "name": "python3"
  },
  "language_info": {
   "codemirror_mode": {
    "name": "ipython",
    "version": 3
   },
   "file_extension": ".py",
   "mimetype": "text/x-python",
   "name": "python",
   "nbconvert_exporter": "python",
   "pygments_lexer": "ipython3",
   "version": "3.7.4"
  }
 },
 "nbformat": 4,
 "nbformat_minor": 2
}
