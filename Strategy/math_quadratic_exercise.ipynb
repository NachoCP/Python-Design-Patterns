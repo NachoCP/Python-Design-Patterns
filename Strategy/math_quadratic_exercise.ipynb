{
 "cells": [
  {
   "cell_type": "code",
   "execution_count": 12,
   "metadata": {},
   "outputs": [],
   "source": [
    "from abc import ABC\n",
    "import cmath\n",
    "\n",
    "class DiscriminantStrategy(ABC):\n",
    "    def calculate_discriminant(self, a, b, c):\n",
    "        pass\n",
    "\n",
    "\n",
    "class OrdinaryDiscriminantStrategy(DiscriminantStrategy):\n",
    "    def calculate_discriminant(self, a, b, c):\n",
    "        first_item = b*b\n",
    "        second_item = 4*a*c\n",
    "        return first_item - second_item\n",
    "\n",
    "\n",
    "class RealDiscriminantStrategy(DiscriminantStrategy):\n",
    "    def calculate_discriminant(self, a, b, c):\n",
    "        first_item = b*b\n",
    "        second_item = 4*a*c\n",
    "        if second_item > first_item:\n",
    "            return float('nan')\n",
    "        else:\n",
    "            return first_item - second_item\n",
    "\n",
    "\n",
    "class QuadraticEquationSolver:\n",
    "    def __init__(self, strategy):\n",
    "        self.strategy = strategy\n",
    "\n",
    "    def solve(self, a, b, c):\n",
    "        \"\"\" Returns a pair of complex (!) values \"\"\"\n",
    "        discriminant = complex(strategy.calculate_discriminant(a,b,c), 0)\n",
    "        root_dis = cmath.sqrt(discriminant)\n",
    "        return (\n",
    "            (-b + root_dis) / (2*a),\n",
    "            (-b - root_dis) / (2*a)\n",
    "        )"
   ]
  },
  {
   "cell_type": "code",
   "execution_count": 15,
   "metadata": {},
   "outputs": [],
   "source": [
    "strategy = RealDiscriminantStrategy()\n",
    "solver = QuadraticEquationSolver(strategy)\n",
    "results = solver.solve(1, 4, 5)"
   ]
  },
  {
   "cell_type": "code",
   "execution_count": 16,
   "metadata": {},
   "outputs": [
    {
     "name": "stdout",
     "output_type": "stream",
     "text": [
      "((nan+nanj), (nan+nanj))\n"
     ]
    }
   ],
   "source": [
    "print(results)"
   ]
  }
 ],
 "metadata": {
  "kernelspec": {
   "display_name": "Python 3",
   "language": "python",
   "name": "python3"
  },
  "language_info": {
   "codemirror_mode": {
    "name": "ipython",
    "version": 3
   },
   "file_extension": ".py",
   "mimetype": "text/x-python",
   "name": "python",
   "nbconvert_exporter": "python",
   "pygments_lexer": "ipython3",
   "version": "3.7.4"
  }
 },
 "nbformat": 4,
 "nbformat_minor": 2
}
