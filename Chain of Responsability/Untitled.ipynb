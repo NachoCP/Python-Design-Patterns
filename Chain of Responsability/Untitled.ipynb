{
 "cells": [
  {
   "cell_type": "code",
   "execution_count": 29,
   "metadata": {},
   "outputs": [],
   "source": [
    "from enum import Enum\n",
    "from abc import ABC\n",
    "class Event(list):\n",
    "    def __call__(self, *args, **kwargs):\n",
    "        for item in self:\n",
    "            item(*args, **kwargs)\n",
    "                   \n",
    "class Game:\n",
    "    def __init__(self):\n",
    "        self.events = Event()\n",
    "        self.first_creature = True\n",
    "        \n",
    "    def fire(self, args):\n",
    "        self.events(args)\n",
    "        \n",
    "class Creature(ABC):\n",
    "    def __init__(self, game, attack, defense):\n",
    "        self.defense = defense\n",
    "        self.attack = attack\n",
    "        self.game = game\n",
    "        game.events.append(self.receive_modifier)\n",
    "\n",
    "    def send_modifier(self, modifier_info):\n",
    "        self.game.fire(modifier_info)\n",
    "        \n",
    "    def receive_modifier(self, args):\n",
    "        if isinstance(args, ModifierInfo):\n",
    "            if args.type_mod == ModifierType.ATTACK:\n",
    "                self.attack += args.value\n",
    "            elif args.type_mod == ModifierType.DEFENSE:\n",
    "                self.defense += args.value\n",
    "                \n",
    "class ModifierType(Enum):\n",
    "    ATTACK = 1\n",
    "    DEFENSE = 2   \n",
    "    \n",
    "    \n",
    "class ModifierInfo:\n",
    "    \n",
    "    def __init__(self, value, type_mod):\n",
    "        self.value = value\n",
    "        self.type_mod = type_mod\n",
    "        \n"
   ]
  },
  {
   "cell_type": "code",
   "execution_count": 30,
   "metadata": {},
   "outputs": [],
   "source": [
    "class Goblin(Creature):\n",
    "    def __init__(self, game, attack=1, defense=1):\n",
    "        super().__init__(game, attack, defense)\n",
    "        if self.game.first_creature:\n",
    "            self.game.first_creature = False\n",
    "        else:\n",
    "            self.send_modifier(ModifierInfo(1, ModifierType.DEFENSE))\n",
    "\n",
    "    def __str__(self):\n",
    "        return f'Goblin with status ({self.attack}/{self.defense})'"
   ]
  },
  {
   "cell_type": "code",
   "execution_count": 31,
   "metadata": {
    "scrolled": true
   },
   "outputs": [
    {
     "name": "stdout",
     "output_type": "stream",
     "text": [
      "Goblin with status (1/1)\n"
     ]
    }
   ],
   "source": [
    "game = Game()\n",
    "g1 = Goblin(game)\n",
    "print(g1)"
   ]
  },
  {
   "cell_type": "code",
   "execution_count": 32,
   "metadata": {},
   "outputs": [
    {
     "name": "stdout",
     "output_type": "stream",
     "text": [
      "Goblin with status (1/2)\n",
      "Goblin with status (1/2)\n"
     ]
    }
   ],
   "source": [
    "g2 = Goblin(game)\n",
    "print(g1)\n",
    "print(g2)"
   ]
  },
  {
   "cell_type": "code",
   "execution_count": null,
   "metadata": {},
   "outputs": [],
   "source": [
    "class GoblinKing(Goblin):\n",
    "    def __init__(self, game):\n",
    "        super().__init__(game, 3, 3)\n",
    "        self.send_"
   ]
  }
 ],
 "metadata": {
  "kernelspec": {
   "display_name": "Python 3",
   "language": "python",
   "name": "python3"
  },
  "language_info": {
   "codemirror_mode": {
    "name": "ipython",
    "version": 3
   },
   "file_extension": ".py",
   "mimetype": "text/x-python",
   "name": "python",
   "nbconvert_exporter": "python",
   "pygments_lexer": "ipython3",
   "version": "3.7.4"
  }
 },
 "nbformat": 4,
 "nbformat_minor": 2
}
