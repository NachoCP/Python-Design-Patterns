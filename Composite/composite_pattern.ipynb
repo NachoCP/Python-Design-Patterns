{
 "cells": [
  {
   "cell_type": "code",
   "execution_count": 15,
   "metadata": {},
   "outputs": [],
   "source": [
    "from abc import ABC\n",
    "from collections.abc import Iterable\n",
    "\n",
    "class Sumable(Iterable, ABC):\n",
    "    @property\n",
    "    def sum(self):\n",
    "        sumable = 0\n",
    "        for s in self:\n",
    "            if type(s) ==int:\n",
    "                sumable += s\n",
    "            else:\n",
    "                sumable += self.sum_iter(s)\n",
    "        return sumable\n",
    "    \n",
    "    def sum_iter(self, values):\n",
    "        sumable = 0\n",
    "        for s in values:\n",
    "            if type(s) ==int:\n",
    "                sumable += s\n",
    "            else:\n",
    "                sumable += self.sum_iter(s)\n",
    "        return sumable\n",
    "\n",
    "class SingleValue(Sumable):\n",
    "    def __init__(self, value):\n",
    "        self.value = value\n",
    "        \n",
    "    def __iter__(self):\n",
    "        yield self.value\n",
    "\n",
    "class ManyValues(list, Sumable):\n",
    "    def __init__(self, value = None):\n",
    "        super().__init__()\n",
    "        if value is not None: self.append(value)"
   ]
  },
  {
   "cell_type": "code",
   "execution_count": 17,
   "metadata": {},
   "outputs": [],
   "source": [
    "class ValueContainer(Iterable, ABC):\n",
    "    @property\n",
    "    def sum(self):\n",
    "        result = 0\n",
    "        for c in self:\n",
    "            for i in c:\n",
    "                result += i\n",
    "        return result\n",
    "    \n",
    "class SingleValue(ValueContainer):\n",
    "    def __init__(self, value):\n",
    "        self.value = value\n",
    "\n",
    "    def __iter__(self):\n",
    "        yield self.value\n",
    "\n",
    "\n",
    "class ManyValues(list, ValueContainer):\n",
    "    pass\n"
   ]
  },
  {
   "cell_type": "code",
   "execution_count": 18,
   "metadata": {},
   "outputs": [
    {
     "name": "stdout",
     "output_type": "stream",
     "text": [
      "66\n"
     ]
    }
   ],
   "source": [
    "single_value = SingleValue(11)\n",
    "other_values = ManyValues()\n",
    "other_values.append(22)\n",
    "other_values.append(33)\n",
    "all_values = ManyValues()\n",
    "all_values.append(single_value)\n",
    "all_values.append(other_values)\n",
    "\n",
    "print(all_values.sum)"
   ]
  }
 ],
 "metadata": {
  "kernelspec": {
   "display_name": "Python 3",
   "language": "python",
   "name": "python3"
  },
  "language_info": {
   "codemirror_mode": {
    "name": "ipython",
    "version": 3
   },
   "file_extension": ".py",
   "mimetype": "text/x-python",
   "name": "python",
   "nbconvert_exporter": "python",
   "pygments_lexer": "ipython3",
   "version": "3.7.4"
  }
 },
 "nbformat": 4,
 "nbformat_minor": 2
}
