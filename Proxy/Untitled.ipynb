{
 "cells": [
  {
   "cell_type": "code",
   "execution_count": 32,
   "metadata": {},
   "outputs": [],
   "source": [
    "class Person:\n",
    "    def __init__(self, age):\n",
    "        self.age = age\n",
    "\n",
    "    def drink(self):\n",
    "        return 'drinking'\n",
    "\n",
    "    def drive(self):\n",
    "        return 'driving'\n",
    "\n",
    "    def drink_and_drive(self):\n",
    "        return 'driving while drunk'\n",
    "\n",
    "class ResponsiblePerson:\n",
    "    def __init__(self, person):\n",
    "        self.person = person\n",
    "    \n",
    "    @property\n",
    "    def age(self):\n",
    "        return self.person.age\n",
    "    \n",
    "    @age.setter\n",
    "    def age(self, value):\n",
    "        self.person.age = value\n",
    "    \n",
    "    def drink(self):\n",
    "        if self.person.age < 18:\n",
    "            return 'too young'\n",
    "        else:\n",
    "            return self.person.drink()\n",
    "    \n",
    "    def drive(self):\n",
    "        if self.person.age < 16:\n",
    "            return 'too young'\n",
    "        else:\n",
    "            return self.person.drive()\n",
    "            \n",
    "    def drink_and_drive(self):\n",
    "        return 'dead'"
   ]
  },
  {
   "cell_type": "code",
   "execution_count": 33,
   "metadata": {},
   "outputs": [],
   "source": [
    "nacho = Person(14)\n",
    "nacho = ResponsiblePerson(nacho)"
   ]
  },
  {
   "cell_type": "code",
   "execution_count": 34,
   "metadata": {},
   "outputs": [],
   "source": [
    "nacho.age = 16"
   ]
  },
  {
   "cell_type": "code",
   "execution_count": 35,
   "metadata": {},
   "outputs": [
    {
     "data": {
      "text/plain": [
       "'driving'"
      ]
     },
     "execution_count": 35,
     "metadata": {},
     "output_type": "execute_result"
    }
   ],
   "source": [
    "nacho.drive()"
   ]
  }
 ],
 "metadata": {
  "kernelspec": {
   "display_name": "Python 3",
   "language": "python",
   "name": "python3"
  },
  "language_info": {
   "codemirror_mode": {
    "name": "ipython",
    "version": 3
   },
   "file_extension": ".py",
   "mimetype": "text/x-python",
   "name": "python",
   "nbconvert_exporter": "python",
   "pygments_lexer": "ipython3",
   "version": "3.7.4"
  }
 },
 "nbformat": 4,
 "nbformat_minor": 2
}
