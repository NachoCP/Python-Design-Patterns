{
 "cells": [
  {
   "cell_type": "code",
   "execution_count": 18,
   "metadata": {},
   "outputs": [],
   "source": [
    "class Sentence:\n",
    "    \n",
    "    words = []\n",
    "    \n",
    "    def __init__(self, plain_text):\n",
    "        \n",
    "        def get_add_words(word):\n",
    "            if word in self.words:\n",
    "                return self.words.index(word)\n",
    "            else:\n",
    "                self.words.append(word)\n",
    "                return len(self.words) - 1\n",
    "        \n",
    "        self.sentence = [get_add_words(word) for word in plain_text.split(' ')]\n",
    "        self.formatting = []\n",
    "    \n",
    "    class WordText:\n",
    "        def __init__(self, word, capitalize=False):\n",
    "            self.word = word\n",
    "            self.capitalize = capitalize\n",
    "\n",
    "        def exists(self, word):\n",
    "            return self.word == word         \n",
    "    \n",
    "    def __getitem__(self, item):\n",
    "        word = self.words.__getitem__(self.sentence.__getitem__(item))\n",
    "        word_text = self.WordText(word)\n",
    "        self.formatting.append(word_text)\n",
    "        return word_text\n",
    "\n",
    "    def __str__(self):\n",
    "        result = []\n",
    "        for i in self.sentence:\n",
    "            word = self.words[i]\n",
    "            for formatted in self.formatting:\n",
    "                if formatted.exists(word) and formatted.capitalize:\n",
    "                    word = word.upper()\n",
    "            result.append(word)\n",
    "        return ' '.join(result)"
   ]
  },
  {
   "cell_type": "code",
   "execution_count": 19,
   "metadata": {},
   "outputs": [],
   "source": [
    "s = Sentence('hello worlds')"
   ]
  },
  {
   "cell_type": "code",
   "execution_count": 20,
   "metadata": {},
   "outputs": [],
   "source": [
    "s[1].capitalize = True"
   ]
  },
  {
   "cell_type": "code",
   "execution_count": 22,
   "metadata": {},
   "outputs": [
    {
     "name": "stdout",
     "output_type": "stream",
     "text": [
      "hello WORLDS\n"
     ]
    }
   ],
   "source": [
    "print(s)"
   ]
  }
 ],
 "metadata": {
  "kernelspec": {
   "display_name": "Python 3",
   "language": "python",
   "name": "python3"
  },
  "language_info": {
   "codemirror_mode": {
    "name": "ipython",
    "version": 3
   },
   "file_extension": ".py",
   "mimetype": "text/x-python",
   "name": "python",
   "nbconvert_exporter": "python",
   "pygments_lexer": "ipython3",
   "version": "3.7.4"
  }
 },
 "nbformat": 4,
 "nbformat_minor": 2
}
