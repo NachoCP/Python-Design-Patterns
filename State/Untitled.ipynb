{
 "cells": [
  {
   "cell_type": "code",
   "execution_count": 13,
   "metadata": {},
   "outputs": [],
   "source": [
    "class CombinationLock:\n",
    "    def __init__(self, combination):\n",
    "        self.status = 'LOCKED'\n",
    "        self.combination = combination\n",
    "        self.unlocking = []\n",
    "\n",
    "    def reset(self):\n",
    "        self.status = 'LOCKED'\n",
    "        self.unlocking = []\n",
    "\n",
    "    def enter_digit(self, digit):\n",
    "        if self.status != 'ERROR':\n",
    "            \n",
    "            if self.combination[len(self.unlocking)] == digit:\n",
    "                \n",
    "                self.unlocking.append(str(digit))\n",
    "                \n",
    "                if len(self.unlocking) == len(self.combination):\n",
    "                    self.status = 'OPEN'\n",
    "                else:\n",
    "                    self.status = ''.join(self.unlocking)\n",
    "                    \n",
    "            else:\n",
    "                self.status = 'ERROR'"
   ]
  },
  {
   "cell_type": "code",
   "execution_count": 14,
   "metadata": {},
   "outputs": [],
   "source": [
    "c1 = CombinationLock([7,8,1,5,4])"
   ]
  },
  {
   "cell_type": "code",
   "execution_count": 15,
   "metadata": {},
   "outputs": [
    {
     "data": {
      "text/plain": [
       "'OPEN'"
      ]
     },
     "execution_count": 15,
     "metadata": {},
     "output_type": "execute_result"
    }
   ],
   "source": [
    "c1.enter_digit(7)\n",
    "c1.enter_digit(8)\n",
    "c1.enter_digit(1)\n",
    "c1.enter_digit(5)\n",
    "c1.enter_digit(4)\n",
    "c1.status"
   ]
  }
 ],
 "metadata": {
  "kernelspec": {
   "display_name": "Python 3",
   "language": "python",
   "name": "python3"
  },
  "language_info": {
   "codemirror_mode": {
    "name": "ipython",
    "version": 3
   },
   "file_extension": ".py",
   "mimetype": "text/x-python",
   "name": "python",
   "nbconvert_exporter": "python",
   "pygments_lexer": "ipython3",
   "version": "3.7.4"
  }
 },
 "nbformat": 4,
 "nbformat_minor": 2
}
