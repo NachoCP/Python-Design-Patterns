{
 "cells": [
  {
   "cell_type": "code",
   "execution_count": 1,
   "metadata": {},
   "outputs": [],
   "source": [
    "class Circle:\n",
    "    def __init__(self, radius):\n",
    "        self.radius = radius\n",
    "\n",
    "    def resize(self, factor):\n",
    "        self.radius *= factor\n",
    "\n",
    "    def __str__(self):\n",
    "        return f'A cricle of radius {self.radius}'\n",
    "\n",
    "class Square:\n",
    "    def __init__(self, side):\n",
    "        self.side = side\n",
    "\n",
    "    def __str__(self):\n",
    "        return f'A square of side {self.side}'\n",
    "\n",
    "\n",
    "class ColoredShape:\n",
    "    def __init__(self, shape, color):\n",
    "        self.color = color\n",
    "        self.shape = shape\n",
    "\n",
    "    def resize(self, factor):\n",
    "        resize = getattr(self.shape, \"resize\", None)\n",
    "        if callable(resize):\n",
    "            resize(factor)\n",
    "\n",
    "    def __str__(self):\n",
    "        return f'{self.shape} has the color {self.color}'"
   ]
  },
  {
   "cell_type": "code",
   "execution_count": 3,
   "metadata": {},
   "outputs": [
    {
     "data": {
      "text/plain": [
       "'A cricle of radius 5 has the color red'"
      ]
     },
     "execution_count": 3,
     "metadata": {},
     "output_type": "execute_result"
    }
   ],
   "source": [
    "circle = ColoredShape(Circle(5), 'red')\n",
    "str(circle)"
   ]
  },
  {
   "cell_type": "code",
   "execution_count": 5,
   "metadata": {},
   "outputs": [
    {
     "data": {
      "text/plain": [
       "'A cricle of radius 20 has the color red'"
      ]
     },
     "execution_count": 5,
     "metadata": {},
     "output_type": "execute_result"
    }
   ],
   "source": [
    "circle.resize(2)\n",
    "str(circle)"
   ]
  },
  {
   "cell_type": "code",
   "execution_count": null,
   "metadata": {},
   "outputs": [],
   "source": []
  }
 ],
 "metadata": {
  "kernelspec": {
   "display_name": "Python 3",
   "language": "python",
   "name": "python3"
  },
  "language_info": {
   "codemirror_mode": {
    "name": "ipython",
    "version": 3
   },
   "file_extension": ".py",
   "mimetype": "text/x-python",
   "name": "python",
   "nbconvert_exporter": "python",
   "pygments_lexer": "ipython3",
   "version": "3.7.4"
  }
 },
 "nbformat": 4,
 "nbformat_minor": 2
}
