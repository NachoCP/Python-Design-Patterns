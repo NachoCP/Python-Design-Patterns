{
 "cells": [
  {
   "cell_type": "code",
   "execution_count": 2,
   "metadata": {},
   "outputs": [],
   "source": [
    "class Person:\n",
    "    def __init__(self, id, name):\n",
    "        self.id = id\n",
    "        self.name = name\n",
    "        \n",
    "    def __str__(self):\n",
    "        return f'Person {self.name} and Id {self.id}'\n",
    "\n",
    "class PersonFactory:\n",
    "    \n",
    "    def __init__(self):\n",
    "        self.id_count = 0\n",
    "        \n",
    "    \n",
    "    def create_person(self, name):\n",
    "        person = Person(self.id_count, name)\n",
    "        self.id_count += 1\n",
    "        return person"
   ]
  },
  {
   "cell_type": "code",
   "execution_count": 3,
   "metadata": {},
   "outputs": [
    {
     "name": "stdout",
     "output_type": "stream",
     "text": [
      "Person Nacho and Id 0\n",
      "Person Carol and Id 1\n"
     ]
    }
   ],
   "source": [
    "pf = PersonFactory()\n",
    "p1 = pf.create_person('Nacho')\n",
    "p2 = pf.create_person('Carol')\n",
    "\n",
    "print(p1)\n",
    "print(p2)"
   ]
  }
 ],
 "metadata": {
  "kernelspec": {
   "display_name": "Python 3",
   "language": "python",
   "name": "python3"
  },
  "language_info": {
   "codemirror_mode": {
    "name": "ipython",
    "version": 3
   },
   "file_extension": ".py",
   "mimetype": "text/x-python",
   "name": "python",
   "nbconvert_exporter": "python",
   "pygments_lexer": "ipython3",
   "version": "3.7.4"
  }
 },
 "nbformat": 4,
 "nbformat_minor": 2
}
