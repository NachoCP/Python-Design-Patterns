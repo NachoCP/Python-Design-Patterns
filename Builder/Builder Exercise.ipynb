{
 "cells": [
  {
   "cell_type": "code",
   "execution_count": 60,
   "metadata": {},
   "outputs": [],
   "source": [
    "class Field:\n",
    "    def __init__(self, name, value):\n",
    "        self.name = name\n",
    "        self.value = value\n",
    "    \n",
    "    def __str__(self):\n",
    "        return f'self.{self.name} = {self.value}'\n",
    "        \n",
    "class Class:\n",
    "    def __init__(self, name):\n",
    "        self.name = name\n",
    "        self.fields = []\n",
    "        \n",
    "    def __str__(self):\n",
    "        \n",
    "        info = f'class {self.name}:\\n'\n",
    "        info += '  def __init__(self):\\n'\n",
    "        \n",
    "        for field in self.fields:\n",
    "            info += f'    {field}\\n'\n",
    "        return info\n",
    "            \n",
    "\n",
    "class CodeBuilder:\n",
    "    def __init__(self, root_name):\n",
    "        self.class_object = Class(root_name)\n",
    "\n",
    "    def add_field(self, type, name):\n",
    "        self.class_object.fields.append(Field(type, name))\n",
    "        return self\n",
    "\n",
    "    def __str__(self):\n",
    "        return self.class_object.__str__()"
   ]
  },
  {
   "cell_type": "code",
   "execution_count": 62,
   "metadata": {},
   "outputs": [
    {
     "name": "stdout",
     "output_type": "stream",
     "text": [
      "class Person:\n",
      "  def __init__(self):\n",
      "    self.name = Peter\n",
      "    self.age = 28\n",
      "\n"
     ]
    }
   ],
   "source": [
    "cb = CodeBuilder('Person').add_field('name', 'Peter').add_field('age', 28)\n",
    "print(cb)"
   ]
  }
 ],
 "metadata": {
  "kernelspec": {
   "display_name": "Python 3",
   "language": "python",
   "name": "python3"
  },
  "language_info": {
   "codemirror_mode": {
    "name": "ipython",
    "version": 3
   },
   "file_extension": ".py",
   "mimetype": "text/x-python",
   "name": "python",
   "nbconvert_exporter": "python",
   "pygments_lexer": "ipython3",
   "version": "3.7.4"
  }
 },
 "nbformat": 4,
 "nbformat_minor": 2
}
