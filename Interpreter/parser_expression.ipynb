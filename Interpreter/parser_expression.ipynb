{
 "cells": [
  {
   "cell_type": "code",
   "execution_count": 55,
   "metadata": {},
   "outputs": [],
   "source": [
    "from enum import Enum\n",
    "class ExpressionProcessor:\n",
    "    \n",
    "\n",
    "        \n",
    "    def __init__(self):\n",
    "        self.variables = {}\n",
    "\n",
    "        \n",
    "    def _next_op_pos(self, initial_value, sub_expression):\n",
    "\n",
    "        for i in range(len(sub_expression)):\n",
    "            if sub_expression[i] == '+' or sub_expression[i] == '-':\n",
    "                return i + initial_value\n",
    "        return initial_value + len(sub_expression)\n",
    "    \n",
    "    def _full_value(self, value):\n",
    "        if value.isdigit():\n",
    "            return int(value)\n",
    "        elif value.isalpha() and len(value) >= 2:\n",
    "            return\n",
    "        \n",
    "    \n",
    "    def calculate(self, expression):\n",
    "        next_op = None\n",
    "        actual_value = 0\n",
    "        i = 0\n",
    "        \n",
    "        while i <= len(expression):\n",
    "            \n",
    "            next_op_position = self._next_op_pos(i, str(expression[i:]))\n",
    "            value_to_evaluate = expression[i:next_op_position]\n",
    "            \n",
    "            if value_to_evaluate.isdigit():\n",
    "                value_evaluated = int(value_to_evaluate)\n",
    "                \n",
    "            elif value_to_evaluate.isalpha() and (len(value_to_evaluate) >= 2 or value_to_evaluate not in self.variables):\n",
    "                actual_value = 0\n",
    "                break\n",
    "                \n",
    "            else:\n",
    "                value_evaluated = int(self.variables[value_to_evaluate])\n",
    "                \n",
    "            \n",
    "            if next_op == '+':\n",
    "                actual_value += value_evaluated\n",
    "                \n",
    "            elif next_op == '-':\n",
    "                actual_value -= value_evaluated\n",
    "            else:\n",
    "                actual_value = value_evaluated\n",
    "            \n",
    "            i = next_op_position + 1\n",
    "            if next_op_position < len(expression):\n",
    "                next_op = expression[next_op_position]\n",
    "        \n",
    "        return actual_value"
   ]
  },
  {
   "cell_type": "code",
   "execution_count": 58,
   "metadata": {},
   "outputs": [
    {
     "data": {
      "text/plain": [
       "6"
      ]
     },
     "execution_count": 58,
     "metadata": {},
     "output_type": "execute_result"
    }
   ],
   "source": [
    "processor = ExpressionProcessor()\n",
    "processor.variables['x'] = 3\n",
    "processor.calculate(\"1+2+x\")"
   ]
  },
  {
   "cell_type": "code",
   "execution_count": 43,
   "metadata": {},
   "outputs": [
    {
     "data": {
      "text/plain": [
       "'+'"
      ]
     },
     "execution_count": 43,
     "metadata": {},
     "output_type": "execute_result"
    }
   ],
   "source": [
    "string = \"1+2+3\"\n",
    "string[3]"
   ]
  }
 ],
 "metadata": {
  "kernelspec": {
   "display_name": "Python 3",
   "language": "python",
   "name": "python3"
  },
  "language_info": {
   "codemirror_mode": {
    "name": "ipython",
    "version": 3
   },
   "file_extension": ".py",
   "mimetype": "text/x-python",
   "name": "python",
   "nbconvert_exporter": "python",
   "pygments_lexer": "ipython3",
   "version": "3.7.4"
  }
 },
 "nbformat": 4,
 "nbformat_minor": 2
}
