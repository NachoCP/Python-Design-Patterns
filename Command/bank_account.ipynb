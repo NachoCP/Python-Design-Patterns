{
 "cells": [
  {
   "cell_type": "code",
   "execution_count": 11,
   "metadata": {},
   "outputs": [],
   "source": [
    "from enum import Enum\n",
    "\n",
    "\n",
    "class Command:\n",
    "    class Action(Enum):\n",
    "        DEPOSIT = 0\n",
    "        WITHDRAW = 1\n",
    "\n",
    "    def __init__(self, action, amount):\n",
    "        self.action = action\n",
    "        self.amount = amount\n",
    "        self.success = False\n",
    "        \n",
    "    def process(self, balance):\n",
    "        if self.action == self.Action.DEPOSIT:\n",
    "            self.success = True\n",
    "            return balance + self.amount\n",
    "        elif self.action == self.Action.WITHDRAW and balance - self.amount >= 0:\n",
    "            self.success = True\n",
    "            return balance - self.amount\n",
    "        else:\n",
    "            print('Not allowed operation')\n",
    "            self.success = False\n",
    "            return balance\n",
    "            \n",
    "        \n",
    "class Account:\n",
    "    def __init__(self, balance=0):\n",
    "        self.balance = balance\n",
    "\n",
    "    def process(self, command):\n",
    "        self.balance = command.process(self.balance) "
   ]
  },
  {
   "cell_type": "code",
   "execution_count": 12,
   "metadata": {},
   "outputs": [
    {
     "name": "stdout",
     "output_type": "stream",
     "text": [
      "100 100\n",
      "True\n",
      "50 50\n",
      "True\n",
      "Not allowed operation\n",
      "50 50\n",
      "False\n"
     ]
    }
   ],
   "source": [
    "a = Account()\n",
    "\n",
    "cmd = Command(Command.Action.DEPOSIT, 100)\n",
    "a.process(cmd)\n",
    "\n",
    "print(100, a.balance)\n",
    "print(cmd.success)\n",
    "\n",
    "cmd = Command(Command.Action.WITHDRAW, 50)\n",
    "a.process(cmd)\n",
    "\n",
    "print(50, a.balance)\n",
    "print(cmd.success)\n",
    "\n",
    "cmd.amount = 150\n",
    "a.process(cmd)\n",
    "\n",
    "print(50, a.balance)\n",
    "print(cmd.success)"
   ]
  }
 ],
 "metadata": {
  "kernelspec": {
   "display_name": "Python 3",
   "language": "python",
   "name": "python3"
  },
  "language_info": {
   "codemirror_mode": {
    "name": "ipython",
    "version": 3
   },
   "file_extension": ".py",
   "mimetype": "text/x-python",
   "name": "python",
   "nbconvert_exporter": "python",
   "pygments_lexer": "ipython3",
   "version": "3.7.4"
  }
 },
 "nbformat": 4,
 "nbformat_minor": 2
}
